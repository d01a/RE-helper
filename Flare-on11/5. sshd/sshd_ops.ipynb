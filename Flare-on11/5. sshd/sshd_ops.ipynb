{
 "cells": [
  {
   "cell_type": "markdown",
   "metadata": {},
   "source": [
    "## Shellcode decryption"
   ]
  },
  {
   "cell_type": "code",
   "execution_count": 1,
   "metadata": {},
   "outputs": [],
   "source": [
    "from Crypto.Cipher import ChaCha20\n",
    "\n",
    "# Define the key and nonce\n",
    "key = bytes.fromhex(\"943df638a81813e2de6318a507f9a0ba2dbb8a7ba63666d08d11a65ec914d66f\")\n",
    "nonce = bytes.fromhex(\"f236839f4dcd711a52862955\")\n",
    "\n",
    "with open(\"encrypted_shellcode.bin\", \"rb\") as f:\n",
    "    encrypted_data = f.read()\n",
    "cipher = ChaCha20.new(key=key, nonce=nonce)\n",
    "decrypted_data = cipher.decrypt(encrypted_data)\n",
    "\n",
    "with open(\"decrypted_shellcode.bin\", \"wb\") as f:\n",
    "    f.write(decrypted_data)\n"
   ]
  },
  {
   "cell_type": "markdown",
   "metadata": {},
   "source": [
    "## IP:PORT decoding (not useful too much)"
   ]
  },
  {
   "cell_type": "code",
   "execution_count": 2,
   "metadata": {},
   "outputs": [
    {
     "name": "stdout",
     "output_type": "stream",
     "text": [
      "IP: 15.2.0.10:14597\n"
     ]
    }
   ],
   "source": [
    "## deocding IP and port\n",
    "import struct\n",
    "import socket\n",
    "\n",
    "def ror(n, c, bits=64):\n",
    "    mask = (1 << bits) - 1\n",
    "    return ((n >> c) | (n << (bits - c))) & mask\n",
    "\n",
    "def rol(n, c, bits=64):\n",
    "    return ror(n, bits - c, bits)\n",
    "\n",
    "def swap32(i):\n",
    "    return struct.unpack(\"<I\", struct.pack(\">I\", i))[0]\n",
    "\n",
    "port = rol(1337,8,16)\n",
    "packed_ip = struct.pack('!I',swap32(0xA00020F))\n",
    "ip_address = socket.inet_ntoa(packed_ip)\n",
    "\n",
    "\n",
    "print(f\"IP: {ip_address}:{port}\")\n",
    "# print(hex(port))\n",
    "# print(hex(swap32(0xA00020F)))\n"
   ]
  },
  {
   "cell_type": "markdown",
   "metadata": {},
   "source": [
    "## Custom chacha20 emulation"
   ]
  },
  {
   "cell_type": "code",
   "execution_count": 1,
   "metadata": {},
   "outputs": [
    {
     "name": "stdout",
     "output_type": "stream",
     "text": [
      "Flag: supp1y_cha1n_sund4y@flare-on.com\n"
     ]
    }
   ],
   "source": [
    "from unicorn import *\n",
    "from unicorn.x86_const import *\n",
    "\n",
    "key = bytes.fromhex(\"8dec9112eb760eda7c7d87a443271c35d9e0cb878993b4d904aef934fa2166d7\")\n",
    "nonce = bytes.fromhex(\"111111111111111111111111\")\n",
    "encrypted_flag = bytes.fromhex(\n",
    "    \"a9f63408422a9e1c0c03a8089470bb8daadc6d7b24ff7f247cda839e92f7071d0263902ec158\"\n",
    ")\n",
    "ADDRESS = 0x1000000\n",
    "# r8d -> counter\n",
    "crypto_context_ptr = ADDRESS + 0x5000\n",
    "key_ptr = ADDRESS + 0x5200\n",
    "nonce_ptr = ADDRESS + 0x5300\n",
    "encrypted_flag_ptr = ADDRESS + 0x5400\n",
    "\n",
    "shellcode = None\n",
    "with open(\"decrypted_shellcode.bin\", \"rb\") as f:\n",
    "    shellcode = f.read()\n",
    "\n",
    "uc = Uc(UC_ARCH_X86, UC_MODE_64)\n",
    "stack_base = 0x00010000\n",
    "stack_size = 0x00010000\n",
    "uc.mem_map(stack_base, stack_size)\n",
    "uc.mem_write(stack_base, b\"\\x00\" * stack_size)\n",
    "uc.reg_write(UC_X86_REG_RSP, stack_base + stack_size // 2)\n",
    "uc.reg_write(UC_X86_REG_RBP, stack_base + stack_size // 2)\n",
    "uc.mem_map(ADDRESS, 0x00010000, UC_PROT_ALL)\n",
    "uc.mem_write(ADDRESS, shellcode)\n",
    "\n",
    "# seg000:0000000000000E99                 lea     rax, [rbp+crypto_context] ; crypto_context\n",
    "# seg000:0000000000000EA0                 lea     rdx, [rbp+prob_key] ; prob_key\n",
    "# seg000:0000000000000EA7                 lea     rcx, [rbp+prob_nonce] ; prob_nonce\n",
    "# seg000:0000000000000EAE                 xor     r8d, r8d        ; prob_counter\n",
    "# seg000:0000000000000EB1                 call    prob_chacha20_init\n",
    "\n",
    "# write crypto_context address to RAX\n",
    "uc.reg_write(UC_X86_REG_RAX, crypto_context_ptr)\n",
    "# write key to ADDRESS+0x5100 and load address to RDX\n",
    "uc.mem_write(key_ptr, key)\n",
    "uc.reg_write(UC_X86_REG_RDX, key_ptr)\n",
    "# write nonce to ADDRESS+0x5200 and load address to RCX\n",
    "uc.mem_write(nonce_ptr, nonce)\n",
    "uc.reg_write(UC_X86_REG_RCX, nonce_ptr)\n",
    "uc.reg_write(UC_X86_REG_R8D, 0)\n",
    "\n",
    "# emulation from ADDRESS+0x0CD2 to ADDRESS+0x0D42 (prob_chacha20_init from start to <leave> instruction)\n",
    "uc.emu_start(ADDRESS + 0xCD2, ADDRESS + 0xD42, timeout=0, count=0)\n",
    "\n",
    "## update reg state to enter the decryption routine\n",
    "# seg000:0000000000000EB6                 lea     rax, [rbp+crypto_context] ; _BYTE * crypto_context\n",
    "# seg000:0000000000000EBD                 lea     rdx, [rbp+file_content] ; _BYTE * file_content-> encypted_flag\n",
    "# seg000:0000000000000EC4                 mov     ecx, [rbp+file_content_len] ; file_content_len\n",
    "# seg000:0000000000000ECA                 call    decrypt\n",
    "\n",
    "# reload RAX with a pointer to crypto context\n",
    "uc.reg_write(UC_X86_REG_RAX, crypto_context_ptr)\n",
    "# write encrypted flag data and load address to rdx and the size to ECX\n",
    "uc.mem_write(encrypted_flag_ptr, encrypted_flag)\n",
    "uc.reg_write(UC_X86_REG_RDX, encrypted_flag_ptr)\n",
    "uc.reg_write(UC_X86_REG_ECX, len(encrypted_flag))\n",
    "\n",
    "# emulation from ADDRESS+0x0D49 to ADDRESS+0x0D83 (decrypt function from start to <leave> instruction)\n",
    "uc.emu_start(ADDRESS + 0xD49, ADDRESS + 0xD83, timeout=0, count=0)\n",
    "print(f\"Flag: {uc.mem_read(encrypted_flag_ptr,0x20).decode('utf-8')}\")\n"
   ]
  },
  {
   "cell_type": "code",
   "execution_count": null,
   "metadata": {},
   "outputs": [],
   "source": []
  }
 ],
 "metadata": {
  "kernelspec": {
   "display_name": "Python 3",
   "language": "python",
   "name": "python3"
  },
  "language_info": {
   "codemirror_mode": {
    "name": "ipython",
    "version": 3
   },
   "file_extension": ".py",
   "mimetype": "text/x-python",
   "name": "python",
   "nbconvert_exporter": "python",
   "pygments_lexer": "ipython3",
   "version": "3.11.3"
  }
 },
 "nbformat": 4,
 "nbformat_minor": 2
}
